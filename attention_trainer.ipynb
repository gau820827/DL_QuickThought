{
 "cells": [
  {
   "cell_type": "markdown",
   "metadata": {},
   "source": [
    "### Data part"
   ]
  },
  {
   "cell_type": "code",
   "execution_count": 1,
   "metadata": {},
   "outputs": [],
   "source": [
    "import torch\n",
    "import torch.nn as nn\n",
    "from torch.autograd import Variable\n",
    "import torch.nn.functional as F\n",
    "import random"
   ]
  },
  {
   "cell_type": "code",
   "execution_count": 2,
   "metadata": {},
   "outputs": [
    {
     "data": {
      "text/plain": [
       "<module 'utils' from '/home/chc631/chchao/dl/DL_QuickThought/utils.py'>"
      ]
     },
     "execution_count": 2,
     "metadata": {},
     "output_type": "execute_result"
    }
   ],
   "source": [
    "import importlib\n",
    "import data\n",
    "importlib.reload(data)\n",
    "\n",
    "import utils\n",
    "importlib.reload(utils)"
   ]
  },
  {
   "cell_type": "code",
   "execution_count": 3,
   "metadata": {},
   "outputs": [],
   "source": [
    "emb = data.Embedding()\n",
    "dataset = data.Dataset(emb.word2idx)"
   ]
  },
  {
   "cell_type": "code",
   "execution_count": 4,
   "metadata": {},
   "outputs": [],
   "source": [
    "# This is the iterator we'll use during training. \n",
    "# It's a generator that gives you one batch at a time.\n",
    "def data_iter(source, batch_size):\n",
    "    dataset_size = len(source)\n",
    "    start = -1 * batch_size\n",
    "    order = list(range(dataset_size))\n",
    "    random.shuffle(order)\n",
    "\n",
    "    while True:\n",
    "        start += batch_size\n",
    "        if start > dataset_size - batch_size:\n",
    "            # Start another epoch.\n",
    "            start = 0\n",
    "            random.shuffle(order)   \n",
    "        batch_indices = order[start:start + batch_size]\n",
    "        yield [source[index] for index in batch_indices]\n",
    "\n",
    "# This is the iterator we use when we're evaluating our model. \n",
    "# It gives a list of batches that you can then iterate through.\n",
    "def eval_iter(source, batch_size):\n",
    "    batches = []\n",
    "    dataset_size = len(source)\n",
    "    start = -1 * batch_size\n",
    "    order = list(range(dataset_size))\n",
    "    random.shuffle(order)\n",
    "\n",
    "    while start < dataset_size - batch_size:\n",
    "        start += batch_size\n",
    "        batch_indices = order[start:start + batch_size]\n",
    "        batch = [source[index] for index in batch_indices]\n",
    "        batches.append(batch)\n",
    "        \n",
    "    return batches\n",
    "\n",
    "# The following function gives batches of vectors and labels, \n",
    "# these are the inputs to your model and loss function\n",
    "def get_batch(batch):\n",
    "    vectors = []\n",
    "    labels = []\n",
    "    for dict in batch:\n",
    "        vectors.append(dict[\"text_index_sequence\"])\n",
    "        labels.append(dict[\"label\"])\n",
    "    return vectors, labels\n"
   ]
  },
  {
   "cell_type": "markdown",
   "metadata": {},
   "source": [
    "### Model part"
   ]
  },
  {
   "cell_type": "code",
   "execution_count": 5,
   "metadata": {},
   "outputs": [
    {
     "data": {
      "text/plain": [
       "<module 'models' from '/home/chc631/chchao/dl/DL_QuickThought/models.py'>"
      ]
     },
     "execution_count": 5,
     "metadata": {},
     "output_type": "execute_result"
    }
   ],
   "source": [
    "import models\n",
    "importlib.reload(models)"
   ]
  },
  {
   "cell_type": "code",
   "execution_count": 6,
   "metadata": {},
   "outputs": [],
   "source": [
    "# Hyper Parameters \n",
    "learning_rate = 0.004\n",
    "num_train_steps = 1000\n",
    "clip = 0.5\n",
    "log_interval = 100\n",
    "cuda = True\n",
    "batch_size = 20\n",
    "attention_hops = 1\n",
    "\n",
    "default_config = {\n",
    "        'dropout': 0.5,\n",
    "        'input_size': emb.__len__(),\n",
    "        'nlayers': 2,\n",
    "        'hidden_dim': 300,\n",
    "        'embedding_dim': 300,\n",
    "        'pooling': 'mean',\n",
    "        'attention-unit': 350,\n",
    "        'attention-hops': 1,\n",
    "        'nfc': 512,\n",
    "        'dictionary': emb,\n",
    "        'word-vector': \"\",\n",
    "        'num_labels': 5,\n",
    "        'cuda' : True, \n",
    "        'batch_size' : 20\n",
    "    }"
   ]
  },
  {
   "cell_type": "code",
   "execution_count": 7,
   "metadata": {},
   "outputs": [],
   "source": [
    "def evaluate(model, data_iter):\n",
    "    model.eval()\n",
    "    correct = 0\n",
    "    total = 0\n",
    "    for i in range(len(data_iter)):\n",
    "        vectors, labels = get_batch(data_iter[i])\n",
    "        vectors = Variable(torch.stack(vectors).squeeze())\n",
    "        labels = torch.stack(labels).squeeze()\n",
    "        output = model(vectors)\n",
    "        _, predicted = torch.max(output.data, 1)\n",
    "        total += labels.size(0)\n",
    "        if (predicted.shape != labels.shape):\n",
    "            break\n",
    "        correct += (predicted.cpu() == labels.cpu()).sum()\n",
    "        # correct += (predicted == labels).sum()\n",
    "    return correct / float(total)"
   ]
  },
  {
   "cell_type": "code",
   "execution_count": 8,
   "metadata": {},
   "outputs": [],
   "source": [
    "def training_loop(model, criterion, optimizer, training_iter, dev_iter, train_eval_iter, use_gpu=False):\n",
    "    step = 0\n",
    "    for i in range(num_train_steps):\n",
    "        model.train()\n",
    "        vectors, labels = get_batch(next(training_iter))\n",
    "        vectors = Variable(torch.stack(vectors).squeeze())\n",
    "        labels = Variable(torch.stack(labels).squeeze())\n",
    "        if (use_gpu):\n",
    "            vectors = vectors.cuda()\n",
    "            labels = labels.cuda()\n",
    "\n",
    "        model.zero_grad()\n",
    "        output = model(vectors)\n",
    "\n",
    "        loss = criterion(output, labels)\n",
    "        loss.backward(retain_graph=True)\n",
    "        # loss.backward()\n",
    "        optimizer.step()\n",
    "\n",
    "        if step % 100 == 0:\n",
    "            print( \"Step %i; Loss %f; Train acc: %f; Dev acc %f\" \n",
    "                %(step, loss.data[0], evaluate(model, train_eval_iter), evaluate(model, dev_iter)))\n",
    "\n",
    "        step += 1"
   ]
  },
  {
   "cell_type": "code",
   "execution_count": 9,
   "metadata": {},
   "outputs": [],
   "source": [
    "def train(model, use_gpu=cuda):\n",
    "    model = model\n",
    "    \n",
    "    # Loss and Optimizer\n",
    "    criterion = nn.CrossEntropyLoss()  \n",
    "    optimizer = torch.optim.Adam(model.parameters(), lr=learning_rate)\n",
    "    # Train the model\n",
    "    training_iter = data_iter(dataset.training_set, batch_size)\n",
    "    train_eval_iter = eval_iter(dataset.training_set[0:500], batch_size)\n",
    "    dev_iter = eval_iter(dataset.dev_set[0:500], batch_size)\n",
    "    training_loop(model, criterion, optimizer, training_iter, dev_iter, train_eval_iter, use_gpu)\n",
    "    return model\n",
    "    \n",
    "def test(model):\n",
    "    # Test the model\n",
    "    test_iter = eval_iter(dataset.test_set, batch_size)\n",
    "    test_acc = evaluate(model, test_iter)\n",
    "    print('Accuracy of the network on the test data: %f' % (100 * test_acc))"
   ]
  },
  {
   "cell_type": "code",
   "execution_count": null,
   "metadata": {},
   "outputs": [],
   "source": [
    "model = models.MLPClassifier(default_config)\n",
    "# model = model.cuda()\n",
    "trained_model = train(model, False)"
   ]
  },
  {
   "cell_type": "code",
   "execution_count": null,
   "metadata": {},
   "outputs": [],
   "source": [
    "test(trained_model)"
   ]
  },
  {
   "cell_type": "code",
   "execution_count": null,
   "metadata": {},
   "outputs": [],
   "source": [
    "lstm_model = models.LSTMSentiment(default_config)\n",
    "lstm_model = lstm_model.cuda()\n",
    "trained_lstm_model = train(lstm_model, use_gpu=True)"
   ]
  },
  {
   "cell_type": "code",
   "execution_count": null,
   "metadata": {
    "scrolled": true
   },
   "outputs": [],
   "source": [
    "test(trained_lstm_model)"
   ]
  },
  {
   "cell_type": "code",
   "execution_count": null,
   "metadata": {},
   "outputs": [],
   "source": [
    "bilstm_model = models.BiLSTMSentiment(default_config)\n",
    "\n",
    "bilstm_model = bilstm_model.cuda()\n",
    "trained_bilstm_model = train(bilstm_model, use_gpu=cuda)"
   ]
  },
  {
   "cell_type": "code",
   "execution_count": null,
   "metadata": {},
   "outputs": [],
   "source": [
    "test(trained_bilstm_model)"
   ]
  },
  {
   "cell_type": "code",
   "execution_count": null,
   "metadata": {},
   "outputs": [],
   "source": [
    "# Set the random seed manually for reproducibility.\n",
    "seed = 1111\n",
    "torch.manual_seed(seed)\n",
    "if torch.cuda.is_available():\n",
    "    if not cuda:\n",
    "        print(\"WARNING: You have a CUDA device, so you should probably run with --cuda\")\n",
    "    else:\n",
    "        torch.cuda.manual_seed(seed)\n",
    "random.seed(seed)"
   ]
  },
  {
   "cell_type": "code",
   "execution_count": null,
   "metadata": {},
   "outputs": [],
   "source": [
    "import time\n",
    "import json\n",
    "\n",
    "save = \"models/model-medium.pt\"\n",
    "\n",
    "best_val_loss = None\n",
    "best_acc = None\n",
    "\n",
    "# WTF is this\n",
    "I = Variable(torch.zeros(batch_size, attention_hops, attention_hops))\n",
    "for i in range(batch_size):\n",
    "    for j in range(attention_hops):\n",
    "        I.data[i][j][j] = 1\n",
    "if cuda:\n",
    "    I = I.cuda()\n",
    "    \n",
    "# data_train = dataset.training_set\n",
    "# data_val = dataset.dev_set\n",
    "\n",
    "\n",
    "def train2(epoch_number, cuda=True):\n",
    "    global best_val_loss, best_acc\n",
    "    model.train()\n",
    "    total_loss = 0\n",
    "    total_pure_loss = 0  # without the penalization term\n",
    "    start_time = time.time()\n",
    "    \n",
    "    step = 0\n",
    "    \n",
    "    criterion = nn.CrossEntropyLoss()  \n",
    "    optimizer = torch.optim.Adam(model.parameters(), lr=learning_rate)\n",
    "\n",
    "    training_iter = data_iter(dataset.training_set, batch_size)\n",
    "    train_eval_iter = eval_iter(dataset.training_set[0:500], batch_size)\n",
    "    dev_iter = eval_iter(dataset.dev_set[0:500], batch_size)\n",
    "    \n",
    "    for i in range(num_train_steps):\n",
    "        model.train()\n",
    "        data, targets = get_batch(next(training_iter))\n",
    "        data = Variable(torch.stack(data).squeeze())\n",
    "        targets = Variable(torch.stack(targets).squeeze())\n",
    "        if (cuda):\n",
    "            data = data.cuda()\n",
    "            targets = targets.cuda()\n",
    "        hidden = model.init_hidden(data.size(1))\n",
    "        output, attention = model.forward(data, hidden)\n",
    "        # print (\"attention:\", attention)\n",
    "        loss = criterion(output.view(data.size(1), -1), targets)\n",
    "        total_pure_loss += loss.data\n",
    "\n",
    "        if attention is not None:  # add penalization term\n",
    "            attentionT = torch.transpose(attention, 1, 2).contiguous()\n",
    "            bmm_result = torch.bmm(attention, attentionT)\n",
    "            I_for_loss = I[:attention.size(0)]\n",
    "            extra_loss = utils.Frobenius(bmm_result - I_for_loss)\n",
    "            loss += penalization_coeff * extra_loss\n",
    "        optimizer.zero_grad()\n",
    "        loss.backward()\n",
    "\n",
    "        nn.utils.clip_grad_norm(model.parameters(), clip)\n",
    "        optimizer.step()\n",
    "\n",
    "        total_loss += loss.data\n",
    "           \n",
    "        if step % 100 == 0:\n",
    "            elapsed = time.time() - start_time\n",
    "            print( \n",
    "                   \"epoch\", epoch_number,\n",
    "                   \"Step\",  step, \n",
    "                   \"Loss \", loss.data[0], \n",
    "                   \" Train loss/acc: \", str(evaluate2(model, train_eval_iter)), \n",
    "                   \"Dev loss/acc: \" + str(evaluate2(model, dev_iter))\n",
    "                 )\n",
    "            # print( \"Step\",  step)\n",
    "            # print (\"Loss \", loss.data[0])\n",
    "            # print (\" Train loss/acc: \", str(evaluate2(model, train_eval_iter)))\n",
    "            # print (\"Dev loss/acc: \" + str(evaluate2(model, dev_iter)))\n",
    "            # print('| {:5d}/{:5d} batches | ms/batch {:5.2f} | loss {:5.4f} | pure loss {:5.4f}'.format(\n",
    "            #        i, len(data_train) // batch_size,\n",
    "            #       elapsed * 1000 / log_interval, total_loss[0] / log_interval,\n",
    "            #       total_pure_loss[0] / log_interval))\n",
    "            total_loss = 0\n",
    "            total_pure_loss = 0\n",
    "            start_time = time.time()\n",
    "        step += 1\n",
    "\n",
    "        \"\"\"\n",
    "        if i % log_interval == 0 and i > 0:\n",
    "            elapsed = time.time() - start_time\n",
    "            print('| epoch {:3d} | {:5d}/{:5d} batches | ms/batch {:5.2f} | loss {:5.4f} | pure loss {:5.4f}'.format(\n",
    "                  epoch_number, i, len(data_train) // batch_size,\n",
    "                  elapsed * 1000 / log_interval, total_loss[0] / log_interval,\n",
    "                  total_pure_loss[0] / log_interval))\n",
    "            total_loss = 0\n",
    "            total_pure_loss = 0\n",
    "            start_time = time.time()\n",
    "        \"\"\"\n",
    "\n",
    "#            for item in model.parameters():\n",
    "#                print item.size(), torch.sum(item.data ** 2), torch.sum(item.grad ** 2).data[0]\n",
    "#            print model.encoder.ws2.weight.grad.data\n",
    "#            exit()\n",
    "    evaluate_start_time = time.time()\n",
    "    val_loss, acc = evaluate2(model, train_eval_iter)\n",
    "    print('-' * 89)\n",
    "    fmt = '| evaluation | time: {:5.2f}s | valid loss (pure) {:5.4f} | Acc {:8.4f}'\n",
    "    print(fmt.format((time.time() - evaluate_start_time), val_loss, acc))\n",
    "    print('-' * 89)\n",
    "    # Save the model, if the validation loss is the best we've seen so far.\n",
    "    if not best_val_loss or val_loss < best_val_loss:\n",
    "        with open(save, 'wb') as f:\n",
    "            torch.save(model, f)\n",
    "        f.close()\n",
    "        best_val_loss = val_loss\n",
    "    else:  # if loss doesn't go down, divide the learning rate by 5.\n",
    "        for param_group in optimizer.param_groups:\n",
    "            param_group['lr'] = param_group['lr'] * 0.2\n",
    "    if not best_acc or acc > best_acc:\n",
    "        with open(save[:-3]+'.best_acc.pt', 'wb') as f:\n",
    "            torch.save(model, f)\n",
    "        f.close()\n",
    "        best_acc = acc\n",
    "    with open(save[:-3]+'.epoch-{:02d}.pt'.format(epoch_number), 'wb') as f:\n",
    "        torch.save(model, f)\n",
    "    f.close()"
   ]
  },
  {
   "cell_type": "code",
   "execution_count": null,
   "metadata": {},
   "outputs": [],
   "source": [
    "def evaluate2(model, data_iter):\n",
    "    \"\"\"evaluate the model while training\"\"\"\n",
    "    model.eval()  # turn on the eval() switch to disable dropout\n",
    "    total_loss = 0\n",
    "    total_correct = 0\n",
    "    total_count = 0\n",
    "    criterion = nn.CrossEntropyLoss()\n",
    "    # for batch, i in enumerate(range(0, len(data_val), batch_size)):\n",
    "    #     data, targets = package(data_val[i:min(len(data_val), i+batch_size)], volatile=True)\n",
    "    for i in range(len(data_iter)):\n",
    "        data, targets = get_batch(data_iter[i])\n",
    "        data = Variable(torch.stack(data).squeeze())\n",
    "        targets = Variable(torch.stack(targets).squeeze())\n",
    "        if cuda:\n",
    "            data = data.cuda()\n",
    "            targets = targets.cuda()\n",
    "        hidden = model.init_hidden(data.size(1))\n",
    "        output, attention = model.forward(data, hidden)\n",
    "        output_flat = output.view(data.size(1), -1)\n",
    "        curr_loss = criterion(output_flat, targets)\n",
    "        total_loss += curr_loss.data\n",
    "        total_count += targets.size(0)\n",
    "        prediction = torch.max(output_flat, 1)[1]\n",
    "        total_correct += torch.sum((prediction == targets).float())\n",
    "    return total_loss[0] / (total_count // batch_size), total_correct.data[0] / total_count # (ajusted_loss, acc)"
   ]
  },
  {
   "cell_type": "code",
   "execution_count": null,
   "metadata": {},
   "outputs": [],
   "source": [
    "config = default_config\n",
    "config[\"pooling\"] = \"all\"\n",
    "model = models.Classifier(config)\n",
    "\n",
    "if cuda:\n",
    "    model = model.cuda()"
   ]
  },
  {
   "cell_type": "code",
   "execution_count": 33,
   "metadata": {},
   "outputs": [
    {
     "name": "stdout",
     "output_type": "stream",
     "text": [
      "Variable containing:\n",
      "(0 ,.,.) = \n",
      " -0.9500\n",
      "\n",
      "(1 ,.,.) = \n",
      " -0.9500\n",
      "\n",
      "(2 ,.,.) = \n",
      " -0.9500\n",
      "\n",
      "(3 ,.,.) = \n",
      " -0.9500\n",
      "\n",
      "(4 ,.,.) = \n",
      " -0.9473\n",
      "\n",
      "(5 ,.,.) = \n",
      " -0.9473\n",
      "\n",
      "(6 ,.,.) = \n",
      " -0.9473\n",
      "\n",
      "(7 ,.,.) = \n",
      " -0.9473\n",
      "\n",
      "(8 ,.,.) = \n",
      " -0.9444\n",
      "\n",
      "(9 ,.,.) = \n",
      " -0.9411\n",
      "\n",
      "(10,.,.) = \n",
      " -0.9411\n",
      "\n",
      "(11,.,.) = \n",
      " -0.9375\n",
      "\n",
      "(12,.,.) = \n",
      " -0.9333\n",
      "\n",
      "(13,.,.) = \n",
      " -0.9333\n",
      "\n",
      "(14,.,.) = \n",
      " -0.9285\n",
      "\n",
      "(15,.,.) = \n",
      " -0.9285\n",
      "\n",
      "(16,.,.) = \n",
      " -0.9230\n",
      "\n",
      "(17,.,.) = \n",
      " -0.9090\n",
      "\n",
      "(18,.,.) = \n",
      " -0.9000\n",
      "\n",
      "(19,.,.) = \n",
      " -0.8750\n",
      "[torch.cuda.FloatTensor of size 20x1x1 (GPU 0)]\n",
      "\n"
     ]
    },
    {
     "name": "stderr",
     "output_type": "stream",
     "text": [
      "/home/chc631/chchao/dl/DL_QuickThought/models.py:106: UserWarning: Implicit dimension choice for softmax has been deprecated. Change the call to include dim=X as an argument.\n",
      "  alphas = self.softmax(penalized_alphas.view(-1, size[1]))  # [bsz*hop, len]\n"
     ]
    },
    {
     "ename": "RuntimeError",
     "evalue": "dimension out of range (expected to be in range of [-2, 1], but got 2)",
     "output_type": "error",
     "traceback": [
      "\u001b[0;31m---------------------------------------------------------------------------\u001b[0m",
      "\u001b[0;31mRuntimeError\u001b[0m                              Traceback (most recent call last)",
      "\u001b[0;32m<ipython-input-33-cb3df78bade8>\u001b[0m in \u001b[0;36m<module>\u001b[0;34m()\u001b[0m\n\u001b[1;32m      1\u001b[0m \u001b[0;32mfor\u001b[0m \u001b[0mepoch\u001b[0m \u001b[0;32min\u001b[0m \u001b[0mrange\u001b[0m\u001b[0;34m(\u001b[0m\u001b[0;36m1\u001b[0m\u001b[0;34m)\u001b[0m\u001b[0;34m:\u001b[0m\u001b[0;34m\u001b[0m\u001b[0m\n\u001b[0;32m----> 2\u001b[0;31m     \u001b[0mtrain2\u001b[0m\u001b[0;34m(\u001b[0m\u001b[0mepoch\u001b[0m\u001b[0;34m)\u001b[0m\u001b[0;34m\u001b[0m\u001b[0m\n\u001b[0m",
      "\u001b[0;32m<ipython-input-23-d300ea4c2efa>\u001b[0m in \u001b[0;36mtrain2\u001b[0;34m(epoch_number, cuda)\u001b[0m\n\u001b[1;32m     53\u001b[0m             \u001b[0mbmm_result\u001b[0m \u001b[0;34m=\u001b[0m \u001b[0mtorch\u001b[0m\u001b[0;34m.\u001b[0m\u001b[0mbmm\u001b[0m\u001b[0;34m(\u001b[0m\u001b[0mattention\u001b[0m\u001b[0;34m,\u001b[0m \u001b[0mattentionT\u001b[0m\u001b[0;34m)\u001b[0m\u001b[0;34m\u001b[0m\u001b[0m\n\u001b[1;32m     54\u001b[0m             \u001b[0mI_for_loss\u001b[0m \u001b[0;34m=\u001b[0m \u001b[0mI\u001b[0m\u001b[0;34m[\u001b[0m\u001b[0;34m:\u001b[0m\u001b[0mattention\u001b[0m\u001b[0;34m.\u001b[0m\u001b[0msize\u001b[0m\u001b[0;34m(\u001b[0m\u001b[0;36m0\u001b[0m\u001b[0;34m)\u001b[0m\u001b[0;34m]\u001b[0m\u001b[0;34m\u001b[0m\u001b[0m\n\u001b[0;32m---> 55\u001b[0;31m             \u001b[0mextra_loss\u001b[0m \u001b[0;34m=\u001b[0m \u001b[0mutils\u001b[0m\u001b[0;34m.\u001b[0m\u001b[0mFrobenius\u001b[0m\u001b[0;34m(\u001b[0m\u001b[0mbmm_result\u001b[0m \u001b[0;34m-\u001b[0m \u001b[0mI_for_loss\u001b[0m\u001b[0;34m)\u001b[0m\u001b[0;34m\u001b[0m\u001b[0m\n\u001b[0m\u001b[1;32m     56\u001b[0m             \u001b[0mloss\u001b[0m \u001b[0;34m+=\u001b[0m \u001b[0mpenalization_coeff\u001b[0m \u001b[0;34m*\u001b[0m \u001b[0mextra_loss\u001b[0m\u001b[0;34m\u001b[0m\u001b[0m\n\u001b[1;32m     57\u001b[0m         \u001b[0moptimizer\u001b[0m\u001b[0;34m.\u001b[0m\u001b[0mzero_grad\u001b[0m\u001b[0;34m(\u001b[0m\u001b[0;34m)\u001b[0m\u001b[0;34m\u001b[0m\u001b[0m\n",
      "\u001b[0;32m~/chchao/dl/DL_QuickThought/utils.py\u001b[0m in \u001b[0;36mFrobenius\u001b[0;34m(mat)\u001b[0m\n\u001b[1;32m      8\u001b[0m         \u001b[0mtest1\u001b[0m \u001b[0;34m=\u001b[0m \u001b[0mtorch\u001b[0m\u001b[0;34m.\u001b[0m\u001b[0msum\u001b[0m\u001b[0;34m(\u001b[0m\u001b[0;34m(\u001b[0m\u001b[0mmat\u001b[0m \u001b[0;34m**\u001b[0m \u001b[0;36m2\u001b[0m\u001b[0;34m)\u001b[0m\u001b[0;34m,\u001b[0m \u001b[0;36m1\u001b[0m\u001b[0;34m)\u001b[0m\u001b[0;34m\u001b[0m\u001b[0m\n\u001b[1;32m      9\u001b[0m         \u001b[0;31m# print (test1)\u001b[0m\u001b[0;34m\u001b[0m\u001b[0;34m\u001b[0m\u001b[0m\n\u001b[0;32m---> 10\u001b[0;31m         \u001b[0mtest2\u001b[0m \u001b[0;34m=\u001b[0m \u001b[0mtorch\u001b[0m\u001b[0;34m.\u001b[0m\u001b[0msum\u001b[0m\u001b[0;34m(\u001b[0m\u001b[0mtest1\u001b[0m\u001b[0;34m,\u001b[0m \u001b[0;36m2\u001b[0m\u001b[0;34m)\u001b[0m\u001b[0;34m\u001b[0m\u001b[0m\n\u001b[0m\u001b[1;32m     11\u001b[0m         \u001b[0mret\u001b[0m \u001b[0;34m=\u001b[0m \u001b[0;34m(\u001b[0m\u001b[0mtest2\u001b[0m\u001b[0;34m.\u001b[0m\u001b[0msqueeze\u001b[0m\u001b[0;34m(\u001b[0m\u001b[0;34m)\u001b[0m \u001b[0;34m+\u001b[0m \u001b[0;36m1e-10\u001b[0m\u001b[0;34m)\u001b[0m \u001b[0;34m**\u001b[0m \u001b[0;36m0.5\u001b[0m\u001b[0;34m\u001b[0m\u001b[0m\n\u001b[1;32m     12\u001b[0m         \u001b[0;32mreturn\u001b[0m \u001b[0mtorch\u001b[0m\u001b[0;34m.\u001b[0m\u001b[0msum\u001b[0m\u001b[0;34m(\u001b[0m\u001b[0mret\u001b[0m\u001b[0;34m)\u001b[0m \u001b[0;34m/\u001b[0m \u001b[0msize\u001b[0m\u001b[0;34m[\u001b[0m\u001b[0;36m0\u001b[0m\u001b[0;34m]\u001b[0m\u001b[0;34m\u001b[0m\u001b[0m\n",
      "\u001b[0;31mRuntimeError\u001b[0m: dimension out of range (expected to be in range of [-2, 1], but got 2)"
     ]
    }
   ],
   "source": [
    "importlib.reload(utils)\n",
    "for epoch in range(1):\n",
    "    train2(epoch)"
   ]
  },
  {
   "cell_type": "code",
   "execution_count": null,
   "metadata": {},
   "outputs": [],
   "source": []
  }
 ],
 "metadata": {
  "kernelspec": {
   "display_name": "Python 3",
   "language": "python",
   "name": "python3"
  },
  "language_info": {
   "codemirror_mode": {
    "name": "ipython",
    "version": 3
   },
   "file_extension": ".py",
   "mimetype": "text/x-python",
   "name": "python",
   "nbconvert_exporter": "python",
   "pygments_lexer": "ipython3",
   "version": "3.6.4"
  }
 },
 "nbformat": 4,
 "nbformat_minor": 2
}
